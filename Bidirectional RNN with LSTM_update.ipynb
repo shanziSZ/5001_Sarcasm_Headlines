{
  "metadata": {
    "kernelspec": {
      "language": "python",
      "display_name": "Python 3",
      "name": "python3"
    },
    "language_info": {
      "name": "python",
      "version": "3.7.12",
      "mimetype": "text/x-python",
      "codemirror_mode": {
        "name": "ipython",
        "version": 3
      },
      "pygments_lexer": "ipython3",
      "nbconvert_exporter": "python",
      "file_extension": ".py"
    },
    "colab": {
      "name": "news-headlines (1).ipynb",
      "provenance": [],
      "toc_visible": true,
      "include_colab_link": true
    }
  },
  "nbformat_minor": 0,
  "nbformat": 4,
  "cells": [
    {
      "cell_type": "markdown",
      "metadata": {
        "id": "view-in-github",
        "colab_type": "text"
      },
      "source": [
        "<a href=\"https://colab.research.google.com/github/shanziSZ/5001_Sarcasm_Headlines/blob/main/Bidirectional%20RNN%20with%20LSTM_update.ipynb\" target=\"_parent\"><img src=\"https://colab.research.google.com/assets/colab-badge.svg\" alt=\"Open In Colab\"/></a>"
      ]
    },
    {
      "cell_type": "code",
      "source": [
        "from google.colab import drive\n",
        "drive.mount('/content/drive')"
      ],
      "metadata": {
        "colab": {
          "base_uri": "https://localhost:8080/"
        },
        "id": "M3zhj3yrHSug",
        "outputId": "71b392f8-37da-4c85-8a3d-b18bbf0b9a70"
      },
      "execution_count": 2,
      "outputs": [
        {
          "output_type": "stream",
          "name": "stdout",
          "text": [
            "Drive already mounted at /content/drive; to attempt to forcibly remount, call drive.mount(\"/content/drive\", force_remount=True).\n"
          ]
        }
      ]
    },
    {
      "cell_type": "code",
      "source": [
        "import tensorflow as tf\n",
        "import numpy as np \n",
        "import pandas as pd \n",
        "import seaborn as sns\n",
        "import matplotlib.pyplot as plt\n",
        "\n",
        "from tensorflow.keras.preprocessing.text import Tokenizer\n",
        "from tensorflow.keras.preprocessing.sequence import pad_sequences"
      ],
      "metadata": {
        "execution": {
          "iopub.status.busy": "2022-05-06T10:57:38.397078Z",
          "iopub.execute_input": "2022-05-06T10:57:38.397643Z",
          "iopub.status.idle": "2022-05-06T10:57:38.403575Z",
          "shell.execute_reply.started": "2022-05-06T10:57:38.397607Z",
          "shell.execute_reply": "2022-05-06T10:57:38.402508Z"
        },
        "trusted": true,
        "id": "SZqEB730HPe0"
      },
      "execution_count": 3,
      "outputs": []
    },
    {
      "cell_type": "code",
      "source": [
        "df = pd.read_json('/content/drive/MyDrive/5001_Group/Sarcasm_Headlines_Dataset_v2.json', lines=True)\n",
        "df.head()"
      ],
      "metadata": {
        "execution": {
          "iopub.status.busy": "2022-05-06T10:57:38.413390Z",
          "iopub.execute_input": "2022-05-06T10:57:38.413626Z",
          "iopub.status.idle": "2022-05-06T10:57:38.545609Z",
          "shell.execute_reply.started": "2022-05-06T10:57:38.413599Z",
          "shell.execute_reply": "2022-05-06T10:57:38.544671Z"
        },
        "trusted": true,
        "colab": {
          "base_uri": "https://localhost:8080/",
          "height": 206
        },
        "id": "skOs3h9IHPe2",
        "outputId": "03ec9618-715d-4fbd-f78a-4859ff965449"
      },
      "execution_count": 4,
      "outputs": [
        {
          "output_type": "execute_result",
          "data": {
            "text/plain": [
              "   is_sarcastic                                           headline  \\\n",
              "0             1  thirtysomething scientists unveil doomsday clo...   \n",
              "1             0  dem rep. totally nails why congress is falling...   \n",
              "2             0  eat your veggies: 9 deliciously different recipes   \n",
              "3             1  inclement weather prevents liar from getting t...   \n",
              "4             1  mother comes pretty close to using word 'strea...   \n",
              "\n",
              "                                        article_link  \n",
              "0  https://www.theonion.com/thirtysomething-scien...  \n",
              "1  https://www.huffingtonpost.com/entry/donna-edw...  \n",
              "2  https://www.huffingtonpost.com/entry/eat-your-...  \n",
              "3  https://local.theonion.com/inclement-weather-p...  \n",
              "4  https://www.theonion.com/mother-comes-pretty-c...  "
            ],
            "text/html": [
              "\n",
              "  <div id=\"df-76ecf5b9-ff19-4e28-8b73-68e9dbaf1295\">\n",
              "    <div class=\"colab-df-container\">\n",
              "      <div>\n",
              "<style scoped>\n",
              "    .dataframe tbody tr th:only-of-type {\n",
              "        vertical-align: middle;\n",
              "    }\n",
              "\n",
              "    .dataframe tbody tr th {\n",
              "        vertical-align: top;\n",
              "    }\n",
              "\n",
              "    .dataframe thead th {\n",
              "        text-align: right;\n",
              "    }\n",
              "</style>\n",
              "<table border=\"1\" class=\"dataframe\">\n",
              "  <thead>\n",
              "    <tr style=\"text-align: right;\">\n",
              "      <th></th>\n",
              "      <th>is_sarcastic</th>\n",
              "      <th>headline</th>\n",
              "      <th>article_link</th>\n",
              "    </tr>\n",
              "  </thead>\n",
              "  <tbody>\n",
              "    <tr>\n",
              "      <th>0</th>\n",
              "      <td>1</td>\n",
              "      <td>thirtysomething scientists unveil doomsday clo...</td>\n",
              "      <td>https://www.theonion.com/thirtysomething-scien...</td>\n",
              "    </tr>\n",
              "    <tr>\n",
              "      <th>1</th>\n",
              "      <td>0</td>\n",
              "      <td>dem rep. totally nails why congress is falling...</td>\n",
              "      <td>https://www.huffingtonpost.com/entry/donna-edw...</td>\n",
              "    </tr>\n",
              "    <tr>\n",
              "      <th>2</th>\n",
              "      <td>0</td>\n",
              "      <td>eat your veggies: 9 deliciously different recipes</td>\n",
              "      <td>https://www.huffingtonpost.com/entry/eat-your-...</td>\n",
              "    </tr>\n",
              "    <tr>\n",
              "      <th>3</th>\n",
              "      <td>1</td>\n",
              "      <td>inclement weather prevents liar from getting t...</td>\n",
              "      <td>https://local.theonion.com/inclement-weather-p...</td>\n",
              "    </tr>\n",
              "    <tr>\n",
              "      <th>4</th>\n",
              "      <td>1</td>\n",
              "      <td>mother comes pretty close to using word 'strea...</td>\n",
              "      <td>https://www.theonion.com/mother-comes-pretty-c...</td>\n",
              "    </tr>\n",
              "  </tbody>\n",
              "</table>\n",
              "</div>\n",
              "      <button class=\"colab-df-convert\" onclick=\"convertToInteractive('df-76ecf5b9-ff19-4e28-8b73-68e9dbaf1295')\"\n",
              "              title=\"Convert this dataframe to an interactive table.\"\n",
              "              style=\"display:none;\">\n",
              "        \n",
              "  <svg xmlns=\"http://www.w3.org/2000/svg\" height=\"24px\"viewBox=\"0 0 24 24\"\n",
              "       width=\"24px\">\n",
              "    <path d=\"M0 0h24v24H0V0z\" fill=\"none\"/>\n",
              "    <path d=\"M18.56 5.44l.94 2.06.94-2.06 2.06-.94-2.06-.94-.94-2.06-.94 2.06-2.06.94zm-11 1L8.5 8.5l.94-2.06 2.06-.94-2.06-.94L8.5 2.5l-.94 2.06-2.06.94zm10 10l.94 2.06.94-2.06 2.06-.94-2.06-.94-.94-2.06-.94 2.06-2.06.94z\"/><path d=\"M17.41 7.96l-1.37-1.37c-.4-.4-.92-.59-1.43-.59-.52 0-1.04.2-1.43.59L10.3 9.45l-7.72 7.72c-.78.78-.78 2.05 0 2.83L4 21.41c.39.39.9.59 1.41.59.51 0 1.02-.2 1.41-.59l7.78-7.78 2.81-2.81c.8-.78.8-2.07 0-2.86zM5.41 20L4 18.59l7.72-7.72 1.47 1.35L5.41 20z\"/>\n",
              "  </svg>\n",
              "      </button>\n",
              "      \n",
              "  <style>\n",
              "    .colab-df-container {\n",
              "      display:flex;\n",
              "      flex-wrap:wrap;\n",
              "      gap: 12px;\n",
              "    }\n",
              "\n",
              "    .colab-df-convert {\n",
              "      background-color: #E8F0FE;\n",
              "      border: none;\n",
              "      border-radius: 50%;\n",
              "      cursor: pointer;\n",
              "      display: none;\n",
              "      fill: #1967D2;\n",
              "      height: 32px;\n",
              "      padding: 0 0 0 0;\n",
              "      width: 32px;\n",
              "    }\n",
              "\n",
              "    .colab-df-convert:hover {\n",
              "      background-color: #E2EBFA;\n",
              "      box-shadow: 0px 1px 2px rgba(60, 64, 67, 0.3), 0px 1px 3px 1px rgba(60, 64, 67, 0.15);\n",
              "      fill: #174EA6;\n",
              "    }\n",
              "\n",
              "    [theme=dark] .colab-df-convert {\n",
              "      background-color: #3B4455;\n",
              "      fill: #D2E3FC;\n",
              "    }\n",
              "\n",
              "    [theme=dark] .colab-df-convert:hover {\n",
              "      background-color: #434B5C;\n",
              "      box-shadow: 0px 1px 3px 1px rgba(0, 0, 0, 0.15);\n",
              "      filter: drop-shadow(0px 1px 2px rgba(0, 0, 0, 0.3));\n",
              "      fill: #FFFFFF;\n",
              "    }\n",
              "  </style>\n",
              "\n",
              "      <script>\n",
              "        const buttonEl =\n",
              "          document.querySelector('#df-76ecf5b9-ff19-4e28-8b73-68e9dbaf1295 button.colab-df-convert');\n",
              "        buttonEl.style.display =\n",
              "          google.colab.kernel.accessAllowed ? 'block' : 'none';\n",
              "\n",
              "        async function convertToInteractive(key) {\n",
              "          const element = document.querySelector('#df-76ecf5b9-ff19-4e28-8b73-68e9dbaf1295');\n",
              "          const dataTable =\n",
              "            await google.colab.kernel.invokeFunction('convertToInteractive',\n",
              "                                                     [key], {});\n",
              "          if (!dataTable) return;\n",
              "\n",
              "          const docLinkHtml = 'Like what you see? Visit the ' +\n",
              "            '<a target=\"_blank\" href=https://colab.research.google.com/notebooks/data_table.ipynb>data table notebook</a>'\n",
              "            + ' to learn more about interactive tables.';\n",
              "          element.innerHTML = '';\n",
              "          dataTable['output_type'] = 'display_data';\n",
              "          await google.colab.output.renderOutput(dataTable, element);\n",
              "          const docLink = document.createElement('div');\n",
              "          docLink.innerHTML = docLinkHtml;\n",
              "          element.appendChild(docLink);\n",
              "        }\n",
              "      </script>\n",
              "    </div>\n",
              "  </div>\n",
              "  "
            ]
          },
          "metadata": {},
          "execution_count": 4
        }
      ]
    },
    {
      "cell_type": "code",
      "source": [
        "headlines = df['headline']\n",
        "labels = df['is_sarcastic']"
      ],
      "metadata": {
        "execution": {
          "iopub.status.busy": "2022-05-06T10:57:38.547393Z",
          "iopub.execute_input": "2022-05-06T10:57:38.547738Z",
          "iopub.status.idle": "2022-05-06T10:57:38.552899Z",
          "shell.execute_reply.started": "2022-05-06T10:57:38.547699Z",
          "shell.execute_reply": "2022-05-06T10:57:38.552185Z"
        },
        "trusted": true,
        "id": "GuowAU2OHPe3"
      },
      "execution_count": 5,
      "outputs": []
    },
    {
      "cell_type": "code",
      "source": [
        "from sklearn.model_selection import train_test_split\n",
        "# training set : validation set : test daset = 8 : 1: 1 \n",
        "x_train, x_test, y_train, y_test = train_test_split(headlines, labels, test_size=0.2, random_state=100)\n",
        "x_val, x_test, y_val, y_test = train_test_split(x_test, y_test, test_size=0.5, random_state=100)"
      ],
      "metadata": {
        "execution": {
          "iopub.status.busy": "2022-05-06T10:57:38.554361Z",
          "iopub.execute_input": "2022-05-06T10:57:38.554778Z",
          "iopub.status.idle": "2022-05-06T10:57:38.571884Z",
          "shell.execute_reply.started": "2022-05-06T10:57:38.554741Z",
          "shell.execute_reply": "2022-05-06T10:57:38.571193Z"
        },
        "trusted": true,
        "id": "jJkGvncVHPe3"
      },
      "execution_count": 6,
      "outputs": []
    },
    {
      "cell_type": "code",
      "source": [
        "print(x_train.shape)\n",
        "print(x_val.shape)\n",
        "print(x_test.shape)\n",
        "print(y_train.shape)\n",
        "print(y_val.shape)\n",
        "print(y_test.shape)"
      ],
      "metadata": {
        "execution": {
          "iopub.status.busy": "2022-05-06T10:57:38.573987Z",
          "iopub.execute_input": "2022-05-06T10:57:38.574320Z",
          "iopub.status.idle": "2022-05-06T10:57:38.581051Z",
          "shell.execute_reply.started": "2022-05-06T10:57:38.574283Z",
          "shell.execute_reply": "2022-05-06T10:57:38.580293Z"
        },
        "trusted": true,
        "colab": {
          "base_uri": "https://localhost:8080/"
        },
        "id": "j2F9i_UVHPe3",
        "outputId": "069c12e1-3a41-4afa-88d5-cb78dedb912b"
      },
      "execution_count": 7,
      "outputs": [
        {
          "output_type": "stream",
          "name": "stdout",
          "text": [
            "(22895,)\n",
            "(2862,)\n",
            "(2862,)\n",
            "(22895,)\n",
            "(2862,)\n",
            "(2862,)\n"
          ]
        }
      ]
    },
    {
      "cell_type": "code",
      "source": [
        "# print(headlines[0])\n",
        "# print(len(headlines[0].split(\" \")))\n",
        "\n",
        "# the number of words in headlines\n",
        "import matplotlib.pyplot as plt\n",
        "len_headline = []\n",
        "for i in headlines:\n",
        "  len_headline.append(len(i.split(\" \")))\n",
        "plt.boxplot(len_headline,vert=False)\n",
        "plt.show()\n",
        "\n"
      ],
      "metadata": {
        "execution": {
          "iopub.status.busy": "2022-05-06T10:57:38.582675Z",
          "iopub.execute_input": "2022-05-06T10:57:38.583402Z",
          "iopub.status.idle": "2022-05-06T10:57:38.862918Z",
          "shell.execute_reply.started": "2022-05-06T10:57:38.583356Z",
          "shell.execute_reply": "2022-05-06T10:57:38.862000Z"
        },
        "trusted": true,
        "colab": {
          "base_uri": "https://localhost:8080/",
          "height": 265
        },
        "id": "bznh9sVSHPe4",
        "outputId": "d3474289-f9fe-4a58-f7f0-b509b64fa260"
      },
      "execution_count": 8,
      "outputs": [
        {
          "output_type": "display_data",
          "data": {
            "text/plain": [
              "<Figure size 432x288 with 1 Axes>"
            ],
            "image/png": "[encoded data removed]"
          },
          "metadata": {
            "needs_background": "light"
          }
        }
      ]
    },
    {
      "cell_type": "code",
      "source": [
        "max_len = max(len_headline)\n",
        "print(max_len)"
      ],
      "metadata": {
        "execution": {
          "iopub.status.busy": "2022-05-06T10:57:38.864316Z",
          "iopub.execute_input": "2022-05-06T10:57:38.864593Z",
          "iopub.status.idle": "2022-05-06T10:57:38.870959Z",
          "shell.execute_reply.started": "2022-05-06T10:57:38.864554Z",
          "shell.execute_reply": "2022-05-06T10:57:38.870021Z"
        },
        "trusted": true,
        "colab": {
          "base_uri": "https://localhost:8080/"
        },
        "id": "InWaF-NJHPe4",
        "outputId": "8f9277a4-e57f-4af1-fa0e-76fcb7881029"
      },
      "execution_count": 9,
      "outputs": [
        {
          "output_type": "stream",
          "name": "stdout",
          "text": [
            "151\n"
          ]
        }
      ]
    },
    {
      "cell_type": "code",
      "source": [
        ""
      ],
      "metadata": {
        "id": "fKUmUyNoHPe4"
      },
      "execution_count": 9,
      "outputs": []
    },
    {
      "cell_type": "code",
      "source": [
        "# Tokenize and pad\n",
        "vocab_size = 30000 # 10000, update\n",
        "oov_token = '<00V>'\n",
        "max_length = 40 # 120, max_len update\n",
        "padding_type = 'post'\n",
        "trunc_type = 'post'\n",
        "embedding_dim = 60 # 16,30, update\n",
        "num_epochs = 10\n",
        "\n",
        "#Tokenize and Pad\n",
        "tokenizer = Tokenizer(num_words=vocab_size, oov_token=oov_token)\n",
        "tokenizer.fit_on_texts(x_train)\n",
        "word_index = tokenizer.word_index\n",
        "\n",
        "x_train = tokenizer.texts_to_sequences(x_train)\n",
        "train_padded = pad_sequences(x_train, maxlen=max_length, padding=padding_type, truncating=trunc_type)\n",
        "\n",
        "x_val = tokenizer.texts_to_sequences(x_val)\n",
        "val_padded = pad_sequences(x_val, maxlen=max_length, padding=padding_type, truncating=trunc_type)\n",
        "\n",
        "x_test = tokenizer.texts_to_sequences(x_test)\n",
        "test_padded = pad_sequences(x_test, maxlen=max_length, padding=padding_type, truncating=trunc_type)\n",
        "\n",
        "#LSTM\n",
        "model_lstm = tf.keras.models.Sequential([\n",
        "    tf.keras.layers.Embedding(vocab_size, embedding_dim, input_length=max_length),\n",
        "    tf.keras.layers.Bidirectional(tf.keras.layers.LSTM(32)),\n",
        "    tf.keras.layers.Dense(24, activation='relu'),\n",
        "    tf.keras.layers.Dense(1, activation='sigmoid')\n",
        "])\n",
        "\n",
        "model_lstm.compile(loss='binary_crossentropy',optimizer='adam', metrics=['accuracy'])\n",
        "model_lstm.summary()\n",
        "history_lstm = model_lstm.fit(train_padded, \n",
        "                    y_train, \n",
        "                    validation_data=(val_padded, y_val), \n",
        "                    epochs=num_epochs, \n",
        "                    verbose=2)"
      ],
      "metadata": {
        "execution": {
          "iopub.status.busy": "2022-05-06T10:57:38.872122Z",
          "iopub.execute_input": "2022-05-06T10:57:38.872580Z",
          "iopub.status.idle": "2022-05-06T10:58:29.248258Z",
          "shell.execute_reply.started": "2022-05-06T10:57:38.872542Z",
          "shell.execute_reply": "2022-05-06T10:58:29.247404Z"
        },
        "trusted": true,
        "colab": {
          "base_uri": "https://localhost:8080/"
        },
        "id": "qZJYmF_LHPe5",
        "outputId": "ec9c9e82-7996-483c-ecab-cb96ac3c8488"
      },
      "execution_count": 10,
      "outputs": [
        {
          "output_type": "stream",
          "name": "stdout",
          "text": [
            "Model: \"sequential\"\n",
            "_________________________________________________________________\n",
            " Layer (type)                Output Shape              Param #   \n",
            "=================================================================\n",
            " embedding (Embedding)       (None, 40, 60)            1800000   \n",
            "                                                                 \n",
            " bidirectional (Bidirectiona  (None, 64)               23808     \n",
            " l)                                                              \n",
            "                                                                 \n",
            " dense (Dense)               (None, 24)                1560      \n",
            "                                                                 \n",
            " dense_1 (Dense)             (None, 1)                 25        \n",
            "                                                                 \n",
            "=================================================================\n",
            "Total params: 1,825,393\n",
            "Trainable params: 1,825,393\n",
            "Non-trainable params: 0\n",
            "_________________________________________________________________\n",
            "Epoch 1/10\n",
            "716/716 - 42s - loss: 0.3854 - accuracy: 0.8180 - val_loss: 0.2894 - val_accuracy: 0.8749 - 42s/epoch - 59ms/step\n",
            "Epoch 2/10\n",
            "716/716 - 37s - loss: 0.1563 - accuracy: 0.9409 - val_loss: 0.3247 - val_accuracy: 0.8700 - 37s/epoch - 52ms/step\n",
            "Epoch 3/10\n",
            "716/716 - 43s - loss: 0.0635 - accuracy: 0.9782 - val_loss: 0.4267 - val_accuracy: 0.8665 - 43s/epoch - 61ms/step\n",
            "Epoch 4/10\n",
            "716/716 - 36s - loss: 0.0246 - accuracy: 0.9927 - val_loss: 0.6040 - val_accuracy: 0.8620 - 36s/epoch - 50ms/step\n",
            "Epoch 5/10\n",
            "716/716 - 36s - loss: 0.0114 - accuracy: 0.9968 - val_loss: 0.6605 - val_accuracy: 0.8578 - 36s/epoch - 50ms/step\n",
            "Epoch 6/10\n",
            "716/716 - 35s - loss: 0.0067 - accuracy: 0.9983 - val_loss: 0.7344 - val_accuracy: 0.8609 - 35s/epoch - 49ms/step\n",
            "Epoch 7/10\n",
            "716/716 - 36s - loss: 0.0045 - accuracy: 0.9989 - val_loss: 0.8143 - val_accuracy: 0.8539 - 36s/epoch - 50ms/step\n",
            "Epoch 8/10\n",
            "716/716 - 36s - loss: 0.0051 - accuracy: 0.9984 - val_loss: 0.7795 - val_accuracy: 0.8578 - 36s/epoch - 50ms/step\n",
            "Epoch 9/10\n",
            "716/716 - 35s - loss: 0.0066 - accuracy: 0.9978 - val_loss: 0.8742 - val_accuracy: 0.8553 - 35s/epoch - 49ms/step\n",
            "Epoch 10/10\n",
            "716/716 - 35s - loss: 0.0084 - accuracy: 0.9973 - val_loss: 0.8765 - val_accuracy: 0.8519 - 35s/epoch - 49ms/step\n"
          ]
        }
      ]
    },
    {
      "cell_type": "code",
      "source": [
        "y_predict = model_lstm.predict(test_padded)"
      ],
      "metadata": {
        "execution": {
          "iopub.status.busy": "2022-05-06T10:58:29.249845Z",
          "iopub.execute_input": "2022-05-06T10:58:29.250198Z",
          "iopub.status.idle": "2022-05-06T10:58:29.992220Z",
          "shell.execute_reply.started": "2022-05-06T10:58:29.250157Z",
          "shell.execute_reply": "2022-05-06T10:58:29.991393Z"
        },
        "trusted": true,
        "id": "FNKVRcMQHPe5"
      },
      "execution_count": 11,
      "outputs": []
    },
    {
      "cell_type": "code",
      "source": [
        "import numpy as np\n",
        "from sklearn.metrics import accuracy_score\n",
        "\n",
        "y_test.tolist()\n",
        "y_pred_list = y_predict.reshape(y_predict.shape[0]).tolist()\n",
        "\n",
        "# get the predicted label \n",
        "y_pred_label = [0]*y_predict.shape[0]\n",
        "for i in range(len(y_predict)):\n",
        "    y_pred_label[i] = round(y_pred_list[i])\n",
        "\n",
        "y_true = y_test\n",
        "accuracy_score(y_true, y_pred_label)\n"
      ],
      "metadata": {
        "execution": {
          "iopub.status.busy": "2022-05-06T10:58:29.994637Z",
          "iopub.execute_input": "2022-05-06T10:58:29.994929Z",
          "iopub.status.idle": "2022-05-06T10:58:30.008621Z",
          "shell.execute_reply.started": "2022-05-06T10:58:29.994890Z",
          "shell.execute_reply": "2022-05-06T10:58:30.007659Z"
        },
        "trusted": true,
        "colab": {
          "base_uri": "https://localhost:8080/"
        },
        "id": "-agbDN3bHPe6",
        "outputId": "cb7b227a-3c0c-4487-f1d6-ae0094d1c389"
      },
      "execution_count": 12,
      "outputs": [
        {
          "output_type": "execute_result",
          "data": {
            "text/plain": [
              "0.8438155136268344"
            ]
          },
          "metadata": {},
          "execution_count": 12
        }
      ]
    },
    {
      "cell_type": "code",
      "source": [
        ""
      ],
      "metadata": {
        "id": "m_etHkyWHPe6"
      },
      "execution_count": 12,
      "outputs": []
    },
    {
      "cell_type": "code",
      "source": [
        ""
      ],
      "metadata": {
        "id": "Os3qEbbZHPe6"
      },
      "execution_count": 12,
      "outputs": []
    }
  ]
}